{
 "cells": [
  {
   "cell_type": "code",
   "execution_count": 1,
   "id": "8398cc38",
   "metadata": {},
   "outputs": [],
   "source": [
    "import pyspark\n",
    "from pyspark import SparkConf\n",
    "from pyspark.sql import SparkSession\n",
    "import pandas as pd"
   ]
  },
  {
   "cell_type": "code",
   "execution_count": 2,
   "id": "6fad367f",
   "metadata": {},
   "outputs": [],
   "source": [
    "spark = SparkSession \\\n",
    "        .builder \\\n",
    "        .master(\"local[*]\") \\\n",
    "        .appName('etl') \\\n",
    "        .getOrCreate()"
   ]
  },
  {
   "cell_type": "code",
   "execution_count": 66,
   "id": "05665ccd",
   "metadata": {},
   "outputs": [],
   "source": [
    "log_path = 'data/log-data/'\n",
    "song_path = 'data/song_data/*/*/*/*.json'"
   ]
  },
  {
   "cell_type": "code",
   "execution_count": 67,
   "id": "183e9f07",
   "metadata": {},
   "outputs": [],
   "source": [
    "log_data = spark.read.json(log_path)"
   ]
  },
  {
   "cell_type": "code",
   "execution_count": 68,
   "id": "20f21c45",
   "metadata": {},
   "outputs": [
    {
     "name": "stdout",
     "output_type": "stream",
     "text": [
      "root\n",
      " |-- artist: string (nullable = true)\n",
      " |-- auth: string (nullable = true)\n",
      " |-- firstName: string (nullable = true)\n",
      " |-- gender: string (nullable = true)\n",
      " |-- itemInSession: long (nullable = true)\n",
      " |-- lastName: string (nullable = true)\n",
      " |-- length: double (nullable = true)\n",
      " |-- level: string (nullable = true)\n",
      " |-- location: string (nullable = true)\n",
      " |-- method: string (nullable = true)\n",
      " |-- page: string (nullable = true)\n",
      " |-- registration: double (nullable = true)\n",
      " |-- sessionId: long (nullable = true)\n",
      " |-- song: string (nullable = true)\n",
      " |-- status: long (nullable = true)\n",
      " |-- ts: long (nullable = true)\n",
      " |-- userAgent: string (nullable = true)\n",
      " |-- userId: string (nullable = true)\n",
      "\n"
     ]
    }
   ],
   "source": [
    "log_data.printSchema()"
   ]
  },
  {
   "cell_type": "code",
   "execution_count": 69,
   "id": "ed86433c",
   "metadata": {
    "tags": []
   },
   "outputs": [
    {
     "name": "stdout",
     "output_type": "stream",
     "text": [
      "+-------+----------+----------+---------+------+-------------+--------+----------+-----+----------+------+-------+------------+----------+----------+----------+----------+----------+----------+\n",
      "|summary|    artist|      auth|firstName|gender|itemInSession|lastName|    length|level|  location|method|   page|registration| sessionId|      song|    status|        ts| userAgent|    userId|\n",
      "+-------+----------+----------+---------+------+-------------+--------+----------+-----+----------+------+-------+------------+----------+----------+----------+----------+----------+----------+\n",
      "|  count|      6820|      8056|     7770|  7770|         8056|    7770|      6820| 8056|      7770|  8056|   8056|        7770|      8056|      6820|      8056|      8056|      7770|      8056|\n",
      "|   mean|     266.5|      null|     null|  null|   21.1988...|    null|247.032...| null|      null|  null|   null|  1.54077...|598.167...|1388.36...|202.897...|1.54248...|      null|54.4639...|\n",
      "| stddev|109.002...|      null|     null|  null|   23.4406...|    null|102.975...| null|      null|  null|   null|  2.65157...|285.313...|2347.51...|17.9942...|7.00316...|      null|28.1685...|\n",
      "|    min|       !!!| Logged In|   Adelyn|     F|            0|Arellano|  15.85587| free|Atlanta...|   GET|  About|  1.53990...|         3| I Will...|       200|1541105...|\"Mozill...|          |\n",
      "|    max|ÃÂtie...|Logged Out|  Zachary|     M|          127|   Young|2594.87302| paid|Yuba Ci...|   PUT|Upgrade|  1.54109...|      1114|ÃÂ Aq...|       404|1543607...|Mozilla...|        99|\n",
      "+-------+----------+----------+---------+------+-------------+--------+----------+-----+----------+------+-------+------------+----------+----------+----------+----------+----------+----------+\n",
      "\n"
     ]
    }
   ],
   "source": [
    "log_data.describe().show(truncate=10)"
   ]
  },
  {
   "cell_type": "code",
   "execution_count": 70,
   "id": "9cb9687d",
   "metadata": {},
   "outputs": [
    {
     "data": {
      "text/plain": [
       "8056"
      ]
     },
     "execution_count": 70,
     "metadata": {},
     "output_type": "execute_result"
    }
   ],
   "source": [
    "log_data.count()"
   ]
  },
  {
   "cell_type": "code",
   "execution_count": 71,
   "id": "ede30c25-2a31-4536-9d63-a030f572efde",
   "metadata": {},
   "outputs": [
    {
     "data": {
      "text/html": [
       "<div>\n",
       "<style scoped>\n",
       "    .dataframe tbody tr th:only-of-type {\n",
       "        vertical-align: middle;\n",
       "    }\n",
       "\n",
       "    .dataframe tbody tr th {\n",
       "        vertical-align: top;\n",
       "    }\n",
       "\n",
       "    .dataframe thead th {\n",
       "        text-align: right;\n",
       "    }\n",
       "</style>\n",
       "<table border=\"1\" class=\"dataframe\">\n",
       "  <thead>\n",
       "    <tr style=\"text-align: right;\">\n",
       "      <th></th>\n",
       "      <th>column</th>\n",
       "      <th>nulls</th>\n",
       "    </tr>\n",
       "  </thead>\n",
       "  <tbody>\n",
       "    <tr>\n",
       "      <th>0</th>\n",
       "      <td>artist</td>\n",
       "      <td>0</td>\n",
       "    </tr>\n",
       "    <tr>\n",
       "      <th>1</th>\n",
       "      <td>auth</td>\n",
       "      <td>0</td>\n",
       "    </tr>\n",
       "    <tr>\n",
       "      <th>2</th>\n",
       "      <td>firstName</td>\n",
       "      <td>0</td>\n",
       "    </tr>\n",
       "    <tr>\n",
       "      <th>3</th>\n",
       "      <td>gender</td>\n",
       "      <td>0</td>\n",
       "    </tr>\n",
       "    <tr>\n",
       "      <th>4</th>\n",
       "      <td>itemInSession</td>\n",
       "      <td>0</td>\n",
       "    </tr>\n",
       "    <tr>\n",
       "      <th>5</th>\n",
       "      <td>lastName</td>\n",
       "      <td>0</td>\n",
       "    </tr>\n",
       "    <tr>\n",
       "      <th>6</th>\n",
       "      <td>length</td>\n",
       "      <td>0</td>\n",
       "    </tr>\n",
       "    <tr>\n",
       "      <th>7</th>\n",
       "      <td>level</td>\n",
       "      <td>0</td>\n",
       "    </tr>\n",
       "    <tr>\n",
       "      <th>8</th>\n",
       "      <td>location</td>\n",
       "      <td>0</td>\n",
       "    </tr>\n",
       "    <tr>\n",
       "      <th>9</th>\n",
       "      <td>method</td>\n",
       "      <td>0</td>\n",
       "    </tr>\n",
       "    <tr>\n",
       "      <th>10</th>\n",
       "      <td>page</td>\n",
       "      <td>0</td>\n",
       "    </tr>\n",
       "    <tr>\n",
       "      <th>11</th>\n",
       "      <td>registration</td>\n",
       "      <td>0</td>\n",
       "    </tr>\n",
       "    <tr>\n",
       "      <th>12</th>\n",
       "      <td>sessionId</td>\n",
       "      <td>0</td>\n",
       "    </tr>\n",
       "    <tr>\n",
       "      <th>13</th>\n",
       "      <td>song</td>\n",
       "      <td>0</td>\n",
       "    </tr>\n",
       "    <tr>\n",
       "      <th>14</th>\n",
       "      <td>status</td>\n",
       "      <td>0</td>\n",
       "    </tr>\n",
       "    <tr>\n",
       "      <th>15</th>\n",
       "      <td>ts</td>\n",
       "      <td>0</td>\n",
       "    </tr>\n",
       "    <tr>\n",
       "      <th>16</th>\n",
       "      <td>userAgent</td>\n",
       "      <td>0</td>\n",
       "    </tr>\n",
       "    <tr>\n",
       "      <th>17</th>\n",
       "      <td>userId</td>\n",
       "      <td>286</td>\n",
       "    </tr>\n",
       "  </tbody>\n",
       "</table>\n",
       "</div>"
      ],
      "text/plain": [
       "           column  nulls\n",
       "0          artist      0\n",
       "1            auth      0\n",
       "2       firstName      0\n",
       "3          gender      0\n",
       "4   itemInSession      0\n",
       "5        lastName      0\n",
       "6          length      0\n",
       "7           level      0\n",
       "8        location      0\n",
       "9          method      0\n",
       "10           page      0\n",
       "11   registration      0\n",
       "12      sessionId      0\n",
       "13           song      0\n",
       "14         status      0\n",
       "15             ts      0\n",
       "16      userAgent      0\n",
       "17         userId    286"
      ]
     },
     "execution_count": 71,
     "metadata": {},
     "output_type": "execute_result"
    }
   ],
   "source": [
    "#Check for blank values\n",
    "from pyspark.sql.functions import col\n",
    "\n",
    "# List of all df columns\n",
    "columns = log_data.columns\n",
    "null = []\n",
    "# Loop\n",
    "for column in columns:\n",
    "    # Filter \n",
    "    count = log_data.filter(col(column) == '').count()\n",
    "    null.append(count)\n",
    "\n",
    "pd.DataFrame({'column': columns, 'nulls': null})"
   ]
  },
  {
   "cell_type": "code",
   "execution_count": 130,
   "id": "7e0d9d01-eb65-4ece-8888-ea433171db06",
   "metadata": {},
   "outputs": [
    {
     "name": "stdout",
     "output_type": "stream",
     "text": [
      "+----------+---------+---------+------+-------------+--------+---------+-----+----------+------+--------+------------+---------+----------+------+----------+----------+------+----------+\n",
      "|    artist|     auth|firstName|gender|itemInSession|lastName|   length|level|  location|method|    page|registration|sessionId|      song|status|        ts| userAgent|userId|start_time|\n",
      "+----------+---------+---------+------+-------------+--------+---------+-----+----------+------+--------+------------+---------+----------+------+----------+----------+------+----------+\n",
      "|  Harmonia|Logged In|     Ryan|     M|            0|   Smith|655.77751| free|San Jos...|   PUT|NextSong|  1.54101...|      583|Sehr ko...|   200|1542241...|\"Mozill...|    26|2018-11...|\n",
      "|The Pro...|Logged In|     Ryan|     M|            1|   Smith|260.07465| free|San Jos...|   PUT|NextSong|  1.54101...|      583|The Big...|   200|1542242...|\"Mozill...|    26|2018-11...|\n",
      "|     Train|Logged In|     Ryan|     M|            2|   Smith|205.45261| free|San Jos...|   PUT|NextSong|  1.54101...|      583|  Marry Me|   200|1542242...|\"Mozill...|    26|2018-11...|\n",
      "|Sony Wo...|Logged In|   Samuel|     M|            0|Gonzalez|218.06975| free|Houston...|   PUT|NextSong|  1.54049...|      597| Blackbird|   200|1542253...|\"Mozill...|    61|2018-11...|\n",
      "| Van Halen|Logged In|    Tegan|     F|            2|  Levine|289.38404| paid|Portlan...|   PUT|NextSong|  1.54079...|      602|Best Of...|   200|1542260...|\"Mozill...|    80|2018-11...|\n",
      "+----------+---------+---------+------+-------------+--------+---------+-----+----------+------+--------+------------+---------+----------+------+----------+----------+------+----------+\n",
      "only showing top 5 rows\n",
      "\n"
     ]
    }
   ],
   "source": [
    "log_data.show(5, truncate=10)"
   ]
  },
  {
   "cell_type": "code",
   "execution_count": 50,
   "id": "8e5d997c-37c1-49b3-bbb8-aa02618724fa",
   "metadata": {},
   "outputs": [],
   "source": [
    "song_data = spark.read.json(song_path)"
   ]
  },
  {
   "cell_type": "code",
   "execution_count": 51,
   "id": "a9d1b38d-3182-4239-83ed-708a677ad560",
   "metadata": {},
   "outputs": [
    {
     "name": "stdout",
     "output_type": "stream",
     "text": [
      "+-------+------------------+------------------+---------------+------------------+-----------+------------------+---------+------------------+--------------------+-----------------+\n",
      "|summary|         artist_id|   artist_latitude|artist_location|  artist_longitude|artist_name|          duration|num_songs|           song_id|               title|             year|\n",
      "+-------+------------------+------------------+---------------+------------------+-----------+------------------+---------+------------------+--------------------+-----------------+\n",
      "|  count|                71|                31|             71|                31|         71|                71|       71|                71|                  71|               71|\n",
      "|   mean|              null| 36.55297161290323|           null|-73.25123258064517|       null|239.72967605633804|      1.0|              null|                null|785.9577464788732|\n",
      "| stddev|              null|12.431023413063542|           null| 36.05807592882608|       null|106.56277912134071|      0.0|              null|                null| 980.957119153384|\n",
      "|    min|AR051KA1187B98B2FF|           -13.442|               |        -122.42005|    40 Grit|          29.54404|        1|SOAOIBZ12AB01815BE|A Higher Place (A...|                0|\n",
      "|    max|ARYKCQI1187FB3B18F|          56.27609| Zagreb Croatia|           15.9676|  lextrical|         599.24853|        1|SOZVMJI12AB01808AF|   ¿Dónde va Chichi?|             2008|\n",
      "+-------+------------------+------------------+---------------+------------------+-----------+------------------+---------+------------------+--------------------+-----------------+\n",
      "\n"
     ]
    }
   ],
   "source": [
    "song_data.describe().show()"
   ]
  },
  {
   "cell_type": "code",
   "execution_count": 126,
   "id": "a4f7a1c3-f83a-47e5-bb62-14a6e13ca829",
   "metadata": {},
   "outputs": [
    {
     "name": "stdout",
     "output_type": "stream",
     "text": [
      "+------------------+---------------+-----------------+----------------+--------------------+---------+---------+------------------+--------------------+----+\n",
      "|         artist_id|artist_latitude|  artist_location|artist_longitude|         artist_name| duration|num_songs|           song_id|               title|year|\n",
      "+------------------+---------------+-----------------+----------------+--------------------+---------+---------+------------------+--------------------+----+\n",
      "|ARDR4AC1187FB371A1|           null|                 |            null|Montserrat Caball...|511.16363|        1|SOBAYLL12A8C138AF9|Sono andati? Fing...|   0|\n",
      "|AREBBGV1187FB523D2|           null|      Houston, TX|            null|Mike Jones (Featu...|173.66159|        1|SOOLYAZ12A6701F4A6|Laws Patrolling (...|   0|\n",
      "|ARMAC4T1187FB3FA4C|       40.82624|Morris Plains, NJ|       -74.47995|The Dillinger Esc...|207.77751|        1|SOBBUGU12A8C13E95D|Setting Fire to S...|2004|\n",
      "|ARPBNLO1187FB3D52F|       40.71455|     New York, NY|       -74.00712|            Tiny Tim| 43.36281|        1|SOAOIBZ12AB01815BE|I Hold Your Hand ...|2000|\n",
      "|ARDNS031187B9924F0|       32.67828|          Georgia|       -83.22295|          Tim Wilson|186.48771|        1|SONYPOM12A8C13B2D7|I Think My Wife I...|2005|\n",
      "+------------------+---------------+-----------------+----------------+--------------------+---------+---------+------------------+--------------------+----+\n",
      "only showing top 5 rows\n",
      "\n"
     ]
    }
   ],
   "source": [
    "song_data.show(5)"
   ]
  },
  {
   "cell_type": "markdown",
   "id": "d758fd80-445f-4b20-8685-ae590e0ae1c5",
   "metadata": {},
   "source": [
    "### Dimension Tables"
   ]
  },
  {
   "cell_type": "markdown",
   "id": "dcaccde4-bd89-41cb-be74-1a2844c64676",
   "metadata": {
    "tags": []
   },
   "source": [
    "#### USERS:\n",
    "- user_id, first_name, last_name, gender, level"
   ]
  },
  {
   "cell_type": "code",
   "execution_count": 73,
   "id": "667046a9-64c9-4d98-a414-ebd7a208d1f4",
   "metadata": {},
   "outputs": [],
   "source": [
    "from pyspark.sql.types import *\n",
    "\n",
    "users = log_data.select(col(\"userId\").cast(IntegerType()).alias(\"user_id\"),\n",
    "                        col(\"firstName\").alias(\"first_name\"),\n",
    "                        col(\"lastName\").alias(\"last_name\"),\n",
    "                        col(\"gender\"),\n",
    "                        col(\"level\")\n",
    "                       ).where(col(\"user_id\").isNotNull()).dropDuplicates([\"user_id\"])"
   ]
  },
  {
   "cell_type": "code",
   "execution_count": 74,
   "id": "dea7d3cc-5277-4b80-96e7-f745be8ea5b3",
   "metadata": {},
   "outputs": [
    {
     "name": "stdout",
     "output_type": "stream",
     "text": [
      "root\n",
      " |-- user_id: integer (nullable = true)\n",
      " |-- first_name: string (nullable = true)\n",
      " |-- last_name: string (nullable = true)\n",
      " |-- gender: string (nullable = true)\n",
      " |-- level: string (nullable = true)\n",
      "\n"
     ]
    }
   ],
   "source": [
    "users.printSchema()"
   ]
  },
  {
   "cell_type": "code",
   "execution_count": 75,
   "id": "b3f117ca-2a40-4243-aaac-4b4f9f0f2246",
   "metadata": {},
   "outputs": [
    {
     "name": "stdout",
     "output_type": "stream",
     "text": [
      "+-------+----------+---------+------+-----+\n",
      "|user_id|first_name|last_name|gender|level|\n",
      "+-------+----------+---------+------+-----+\n",
      "|      2|   Jizelle| Benjamin|     F| free|\n",
      "|      3|     Isaac|   Valdez|     M| free|\n",
      "|      4|    Alivia|  Terrell|     F| free|\n",
      "|      5|    Elijah|    Davis|     M| free|\n",
      "|      6|   Cecilia|    Owens|     F| free|\n",
      "+-------+----------+---------+------+-----+\n",
      "only showing top 5 rows\n",
      "\n"
     ]
    }
   ],
   "source": [
    "users.show(5)"
   ]
  },
  {
   "cell_type": "markdown",
   "id": "7f42c108-af2d-49cb-95d2-33b11bfd3e78",
   "metadata": {
    "tags": []
   },
   "source": [
    "#### SONGS:\n",
    "- song_id, title, artist_id, year, duration"
   ]
  },
  {
   "cell_type": "code",
   "execution_count": 101,
   "id": "b3d3ce4b-f34c-489c-8675-e73fb3be0e60",
   "metadata": {},
   "outputs": [],
   "source": [
    "songs = song_data.selectExpr('song_id',\n",
    "                             'title as song_title',\n",
    "                             'artist_id',\n",
    "                             'year',\n",
    "                             'duration').distinct()"
   ]
  },
  {
   "cell_type": "code",
   "execution_count": 102,
   "id": "588afcbc-8c1f-4c7d-baec-31483798c44b",
   "metadata": {},
   "outputs": [
    {
     "name": "stdout",
     "output_type": "stream",
     "text": [
      "root\n",
      " |-- song_id: string (nullable = true)\n",
      " |-- song_title: string (nullable = true)\n",
      " |-- artist_id: string (nullable = true)\n",
      " |-- year: long (nullable = true)\n",
      " |-- duration: double (nullable = true)\n",
      "\n"
     ]
    }
   ],
   "source": [
    "songs.printSchema()"
   ]
  },
  {
   "cell_type": "code",
   "execution_count": 103,
   "id": "1ae9a172-c85f-49df-b3f8-a166220fafe8",
   "metadata": {},
   "outputs": [
    {
     "name": "stdout",
     "output_type": "stream",
     "text": [
      "+------------------+--------------------+------------------+----+---------+\n",
      "|           song_id|          song_title|         artist_id|year| duration|\n",
      "+------------------+--------------------+------------------+----+---------+\n",
      "|SOBBUGU12A8C13E95D|Setting Fire to S...|ARMAC4T1187FB3FA4C|2004|207.77751|\n",
      "|SONYPOM12A8C13B2D7|I Think My Wife I...|ARDNS031187B9924F0|2005|186.48771|\n",
      "|SOAOIBZ12AB01815BE|I Hold Your Hand ...|ARPBNLO1187FB3D52F|2000| 43.36281|\n",
      "|SOOLYAZ12A6701F4A6|Laws Patrolling (...|AREBBGV1187FB523D2|   0|173.66159|\n",
      "|SONWXQJ12A8C134D94|The Ballad Of Sle...|ARNF6401187FB57032|1994|  305.162|\n",
      "+------------------+--------------------+------------------+----+---------+\n",
      "only showing top 5 rows\n",
      "\n"
     ]
    }
   ],
   "source": [
    "songs.show(5)"
   ]
  },
  {
   "cell_type": "markdown",
   "id": "e95dd6ce-fa78-4d83-8074-6c4b280384cd",
   "metadata": {},
   "source": [
    "#### ARTISTS:\n",
    "- artist_id, name, location, latitude, longitude"
   ]
  },
  {
   "cell_type": "code",
   "execution_count": 104,
   "id": "5cf66580-dfde-472a-b441-4ad43105a913",
   "metadata": {},
   "outputs": [],
   "source": [
    "artists = song_data.selectExpr('artist_id',\n",
    "                              'artist_name as name',\n",
    "                              'artist_location as location',\n",
    "                              'artist_latitude as latitude',\n",
    "                              'artist_longitude as longitude').distinct()"
   ]
  },
  {
   "cell_type": "code",
   "execution_count": 105,
   "id": "3518ca2b-c620-441d-acd2-454f5b81352d",
   "metadata": {},
   "outputs": [
    {
     "name": "stdout",
     "output_type": "stream",
     "text": [
      "root\n",
      " |-- artist_id: string (nullable = true)\n",
      " |-- name: string (nullable = true)\n",
      " |-- location: string (nullable = true)\n",
      " |-- latitude: double (nullable = true)\n",
      " |-- longitude: double (nullable = true)\n",
      "\n"
     ]
    }
   ],
   "source": [
    "artists.printSchema()"
   ]
  },
  {
   "cell_type": "code",
   "execution_count": 106,
   "id": "a253b3e0-851c-4050-a1c0-7ce037354fb5",
   "metadata": {},
   "outputs": [
    {
     "name": "stdout",
     "output_type": "stream",
     "text": [
      "+------------------+--------------------+--------------------+--------+---------+\n",
      "|         artist_id|                name|            location|latitude|longitude|\n",
      "+------------------+--------------------+--------------------+--------+---------+\n",
      "|ARPBNLO1187FB3D52F|            Tiny Tim|        New York, NY|40.71455|-74.00712|\n",
      "|ARMAC4T1187FB3FA4C|The Dillinger Esc...|   Morris Plains, NJ|40.82624|-74.47995|\n",
      "|AREBBGV1187FB523D2|Mike Jones (Featu...|         Houston, TX|    null|     null|\n",
      "|ARDR4AC1187FB371A1|Montserrat Caball...|                    |    null|     null|\n",
      "|ARNF6401187FB57032|   Sophie B. Hawkins|New York, NY [Man...|40.79086|-73.96644|\n",
      "+------------------+--------------------+--------------------+--------+---------+\n",
      "only showing top 5 rows\n",
      "\n"
     ]
    }
   ],
   "source": [
    "artists.show(5)"
   ]
  },
  {
   "cell_type": "markdown",
   "id": "54eb37af-136a-47ba-8689-337f91a812c0",
   "metadata": {},
   "source": [
    "#### TIME:\n",
    "- start_time, hour, day, week, month, year, weekday"
   ]
  },
  {
   "cell_type": "code",
   "execution_count": 107,
   "id": "b831c389-5b18-4be5-859c-128598f55aaa",
   "metadata": {},
   "outputs": [],
   "source": [
    "from pyspark.sql.functions import *\n",
    "\n",
    "time = log_data.selectExpr(\n",
    "    'CAST(ts/1000 AS TIMESTAMP) AS start_time',\n",
    "    'date_format(from_unixtime(ts / 1000), \"HH\") as hour',\n",
    "    'date_format(from_unixtime(ts / 1000), \"dd\") as day',\n",
    "    'weekofyear(from_unixtime(ts / 1000)) as week',\n",
    "    'month(from_unixtime(ts / 1000)) as month',\n",
    "    'year(from_unixtime(ts / 1000)) as year',\n",
    "    'dayofweek(from_unixtime(ts / 1000)) as weekday'\n",
    ")"
   ]
  },
  {
   "cell_type": "code",
   "execution_count": 108,
   "id": "7889930a-5f15-4822-9c27-a9cb891ac554",
   "metadata": {},
   "outputs": [
    {
     "name": "stdout",
     "output_type": "stream",
     "text": [
      "root\n",
      " |-- start_time: timestamp (nullable = true)\n",
      " |-- hour: string (nullable = true)\n",
      " |-- day: string (nullable = true)\n",
      " |-- week: integer (nullable = true)\n",
      " |-- month: integer (nullable = true)\n",
      " |-- year: integer (nullable = true)\n",
      " |-- weekday: integer (nullable = true)\n",
      "\n"
     ]
    }
   ],
   "source": [
    "time.printSchema()"
   ]
  },
  {
   "cell_type": "code",
   "execution_count": 109,
   "id": "524c80ac-f0c5-4918-886e-cd0229faa532",
   "metadata": {},
   "outputs": [
    {
     "name": "stdout",
     "output_type": "stream",
     "text": [
      "+--------------------+----+---+----+-----+----+-------+\n",
      "|          start_time|hour|day|week|month|year|weekday|\n",
      "+--------------------+----+---+----+-----+----+-------+\n",
      "|2018-11-14 22:30:...|  22| 14|  46|   11|2018|      4|\n",
      "|2018-11-14 22:41:...|  22| 14|  46|   11|2018|      4|\n",
      "|2018-11-14 22:45:...|  22| 14|  46|   11|2018|      4|\n",
      "|2018-11-15 01:44:...|  01| 15|  46|   11|2018|      5|\n",
      "|2018-11-15 03:48:...|  03| 15|  46|   11|2018|      5|\n",
      "+--------------------+----+---+----+-----+----+-------+\n",
      "only showing top 5 rows\n",
      "\n"
     ]
    }
   ],
   "source": [
    "time.show(5)"
   ]
  },
  {
   "cell_type": "markdown",
   "id": "04515595-d6e6-4da7-9491-5b77e4ea3b27",
   "metadata": {
    "tags": []
   },
   "source": [
    "### Fact Table\n",
    "#### SONGPLAYS\n",
    "- songplay_id, start_time, user_id, level, song_id, artist_id, session_id, location, user_agent"
   ]
  },
  {
   "cell_type": "code",
   "execution_count": 131,
   "id": "5aca1e4f-c30b-427d-9970-f0e803946af8",
   "metadata": {},
   "outputs": [
    {
     "name": "stdout",
     "output_type": "stream",
     "text": [
      "+----------+---------+---------+------+-------------+--------+---------+-----+----------+------+--------+------------+---------+----------+------+----------+----------+------+----------+\n",
      "|    artist|     auth|firstName|gender|itemInSession|lastName|   length|level|  location|method|    page|registration|sessionId|      song|status|        ts| userAgent|userId|start_time|\n",
      "+----------+---------+---------+------+-------------+--------+---------+-----+----------+------+--------+------------+---------+----------+------+----------+----------+------+----------+\n",
      "|  Harmonia|Logged In|     Ryan|     M|            0|   Smith|655.77751| free|San Jos...|   PUT|NextSong|  1.54101...|      583|Sehr ko...|   200|1542241...|\"Mozill...|    26|2018-11...|\n",
      "|The Pro...|Logged In|     Ryan|     M|            1|   Smith|260.07465| free|San Jos...|   PUT|NextSong|  1.54101...|      583|The Big...|   200|1542242...|\"Mozill...|    26|2018-11...|\n",
      "|     Train|Logged In|     Ryan|     M|            2|   Smith|205.45261| free|San Jos...|   PUT|NextSong|  1.54101...|      583|  Marry Me|   200|1542242...|\"Mozill...|    26|2018-11...|\n",
      "|Sony Wo...|Logged In|   Samuel|     M|            0|Gonzalez|218.06975| free|Houston...|   PUT|NextSong|  1.54049...|      597| Blackbird|   200|1542253...|\"Mozill...|    61|2018-11...|\n",
      "| Van Halen|Logged In|    Tegan|     F|            2|  Levine|289.38404| paid|Portlan...|   PUT|NextSong|  1.54079...|      602|Best Of...|   200|1542260...|\"Mozill...|    80|2018-11...|\n",
      "+----------+---------+---------+------+-------------+--------+---------+-----+----------+------+--------+------------+---------+----------+------+----------+----------+------+----------+\n",
      "only showing top 5 rows\n",
      "\n"
     ]
    }
   ],
   "source": [
    "log_data.show(5, truncate=10)"
   ]
  },
  {
   "cell_type": "code",
   "execution_count": 123,
   "id": "b914c75d-0627-44bb-9f3d-0365ab30e414",
   "metadata": {},
   "outputs": [],
   "source": [
    "# Fact table contains records associated with song plays (page = NextSong)\n",
    "log_data = log_data.filter(log_data.page == \"NextSong\")\n",
    "log_data = log_data.withColumn(\"start_time\",to_timestamp(from_unixtime(col(\"ts\") / 1000)))\n",
    "\n",
    "songplays = log_data.join(song_data,\n",
    "                         (log_data.song == song_data.title) & (log_data.artist == song_data.artist_name) & (log_data.length == song_data.duration), how='inner') \\\n",
    "                        .select(monotonically_increasing_id().alias(\"songplay_id\"), \\\n",
    "                                col(\"start_time\"), \\\n",
    "                                col(\"userId\").alias(\"user_id\"), \\\n",
    "                                \"level\",\"song_id\",\"artist_id\", \\\n",
    "                                col(\"sessionId\").alias(\"session_id\"), \\\n",
    "                                \"location\", \\\n",
    "                                col(\"userAgent\").alias(\"user_agent\")).drop_duplicates()\n",
    "\n",
    "songplays = songplays.withColumn(\"month\",month(col(\"start_time\"))).withColumn(\"year\", year(col(\"start_time\")))"
   ]
  },
  {
   "cell_type": "code",
   "execution_count": 132,
   "id": "85ea0558-ee05-4e77-adc9-476a71532b44",
   "metadata": {},
   "outputs": [
    {
     "name": "stdout",
     "output_type": "stream",
     "text": [
      "+-----------+----------+-------+-----+----------+----------+----------+----------+----------+-----+----+\n",
      "|songplay_id|start_time|user_id|level|   song_id| artist_id|session_id|  location|user_agent|month|year|\n",
      "+-----------+----------+-------+-----+----------+----------+----------+----------+----------+-----+----+\n",
      "|          0|2018-11...|     15| paid|SOZCTXZ...|AR5KOSW...|       818|Chicago...|\"Mozill...|   11|2018|\n",
      "+-----------+----------+-------+-----+----------+----------+----------+----------+----------+-----+----+\n",
      "\n"
     ]
    }
   ],
   "source": [
    "songplays.show(5, truncate=10)"
   ]
  },
  {
   "cell_type": "markdown",
   "id": "52d621ad-fe81-4beb-8133-f74dc9a98d40",
   "metadata": {},
   "source": [
    "### Write Parquet Files (Local)"
   ]
  },
  {
   "cell_type": "code",
   "execution_count": 113,
   "id": "9d98f063-327d-472a-9dd1-59f116331d91",
   "metadata": {},
   "outputs": [],
   "source": [
    "output_path = 'output/'"
   ]
  },
  {
   "cell_type": "code",
   "execution_count": 125,
   "id": "5879bd87-73e7-4ba3-bdc7-4ddb81cf92a9",
   "metadata": {},
   "outputs": [],
   "source": [
    "users.write.parquet((output_path + \"users\") , mode=\"overwrite\")\n",
    "songs.write.parquet((output_path + \"songs\") , mode=\"overwrite\",  partitionBy=[\"year\", \"artist_id\"])\n",
    "artists.write.parquet((output_path + \"artists\") , mode=\"overwrite\")\n",
    "time.write.parquet((output_path + \"time\") , mode=\"overwrite\",  partitionBy=[\"year\", \"month\"])\n",
    "songplays.write.parquet((output_path + \"songplays\") , mode=\"overwrite\",  partitionBy=[\"year\", \"month\"])"
   ]
  }
 ],
 "metadata": {
  "kernelspec": {
   "display_name": "Python 3 (ipykernel)",
   "language": "python",
   "name": "python3"
  },
  "language_info": {
   "codemirror_mode": {
    "name": "ipython",
    "version": 3
   },
   "file_extension": ".py",
   "mimetype": "text/x-python",
   "name": "python",
   "nbconvert_exporter": "python",
   "pygments_lexer": "ipython3",
   "version": "3.9.7"
  }
 },
 "nbformat": 4,
 "nbformat_minor": 5
}
