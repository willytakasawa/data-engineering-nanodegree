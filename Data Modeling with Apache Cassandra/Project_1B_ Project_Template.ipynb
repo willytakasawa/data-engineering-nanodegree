{
 "cells": [
  {
   "cell_type": "markdown",
   "metadata": {},
   "source": [
    "## Part I. ETL Pipeline for Pre-Processing the Files"
   ]
  },
  {
   "cell_type": "markdown",
   "metadata": {},
   "source": [
    "#### Import Python packages "
   ]
  },
  {
   "cell_type": "code",
   "execution_count": 49,
   "metadata": {},
   "outputs": [],
   "source": [
    "# Import Python packages \n",
    "import pandas as pd\n",
    "import cassandra\n",
    "import re\n",
    "import os\n",
    "import glob\n",
    "import numpy as np\n",
    "import json\n",
    "import csv\n",
    "from tabulate import tabulate"
   ]
  },
  {
   "cell_type": "markdown",
   "metadata": {},
   "source": [
    "#### Creating list of filepaths to process original event csv data files"
   ]
  },
  {
   "cell_type": "code",
   "execution_count": 50,
   "metadata": {},
   "outputs": [
    {
     "name": "stdout",
     "output_type": "stream",
     "text": [
      "/home/willytakasawa/Projects/data-engineering-nanodegree/Data Modeling with Apache Cassandra\n"
     ]
    }
   ],
   "source": [
    "# checking your current working directory\n",
    "print(os.getcwd())\n",
    "\n",
    "# Get your current folder and subfolder event data\n",
    "filepath = os.getcwd() + '/event_data'\n",
    "\n",
    "# Create a for loop to create a list of files and collect each filepath\n",
    "for root, dirs, files in os.walk(filepath):\n",
    "    \n",
    "# join the file path and roots with the subdirectories using glob\n",
    "    file_path_list = glob.glob(os.path.join(root,'*'))\n",
    "    #print(file_path_list)"
   ]
  },
  {
   "cell_type": "markdown",
   "metadata": {},
   "source": [
    "#### Processing the files to create the data file csv that will be used for Apache Casssandra tables"
   ]
  },
  {
   "cell_type": "code",
   "execution_count": 51,
   "metadata": {},
   "outputs": [],
   "source": [
    "# initiating an empty list of rows that will be generated from each file\n",
    "full_data_rows_list = [] \n",
    "    \n",
    "# for every filepath in the file path list \n",
    "for f in file_path_list:\n",
    "\n",
    "# reading csv file \n",
    "    with open(f, 'r', encoding = 'utf8', newline='') as csvfile: \n",
    "        # creating a csv reader object \n",
    "        csvreader = csv.reader(csvfile) \n",
    "        next(csvreader)\n",
    "        \n",
    " # extracting each data row one by one and append it        \n",
    "        for line in csvreader:\n",
    "            #print(line)\n",
    "            full_data_rows_list.append(line) \n",
    "            \n",
    "# uncomment the code below if you would like to get total number of rows \n",
    "#print(len(full_data_rows_list))\n",
    "# uncomment the code below if you would like to check to see what the list of event data rows will look like\n",
    "#print(full_data_rows_list)\n",
    "\n",
    "# creating a smaller event data csv file called event_datafile_new csv that will be used to insert data into the \\\n",
    "# Apache Cassandra tables\n",
    "csv.register_dialect('myDialect', quoting=csv.QUOTE_ALL, skipinitialspace=True)\n",
    "\n",
    "with open('event_datafile_new.csv', 'w', encoding = 'utf8', newline='') as f:\n",
    "    writer = csv.writer(f, dialect='myDialect')\n",
    "    writer.writerow(['artist','firstName','gender','itemInSession','lastName','length',\\\n",
    "                'level','location','sessionId','song','userId'])\n",
    "    for row in full_data_rows_list:\n",
    "        if (row[0] == ''):\n",
    "            continue\n",
    "        writer.writerow((row[0], row[2], row[3], row[4], row[5], row[6], row[7], row[8], row[12], row[13], row[16]))\n"
   ]
  },
  {
   "cell_type": "code",
   "execution_count": 52,
   "metadata": {},
   "outputs": [
    {
     "name": "stdout",
     "output_type": "stream",
     "text": [
      "6821\n"
     ]
    }
   ],
   "source": [
    "# check the number of rows in your csv file\n",
    "with open('event_datafile_new.csv', 'r', encoding = 'utf8') as f:\n",
    "    print(sum(1 for line in f))"
   ]
  },
  {
   "cell_type": "code",
   "execution_count": 53,
   "metadata": {},
   "outputs": [
    {
     "data": {
      "text/html": [
       "<div>\n",
       "<style scoped>\n",
       "    .dataframe tbody tr th:only-of-type {\n",
       "        vertical-align: middle;\n",
       "    }\n",
       "\n",
       "    .dataframe tbody tr th {\n",
       "        vertical-align: top;\n",
       "    }\n",
       "\n",
       "    .dataframe thead th {\n",
       "        text-align: right;\n",
       "    }\n",
       "</style>\n",
       "<table border=\"1\" class=\"dataframe\">\n",
       "  <thead>\n",
       "    <tr style=\"text-align: right;\">\n",
       "      <th></th>\n",
       "      <th>artist</th>\n",
       "      <th>firstName</th>\n",
       "      <th>gender</th>\n",
       "      <th>itemInSession</th>\n",
       "      <th>lastName</th>\n",
       "      <th>length</th>\n",
       "      <th>level</th>\n",
       "      <th>location</th>\n",
       "      <th>sessionId</th>\n",
       "      <th>song</th>\n",
       "      <th>userId</th>\n",
       "    </tr>\n",
       "  </thead>\n",
       "  <tbody>\n",
       "    <tr>\n",
       "      <th>0</th>\n",
       "      <td>Mitch Ryder &amp; The Detroit Wheels</td>\n",
       "      <td>Tegan</td>\n",
       "      <td>F</td>\n",
       "      <td>65</td>\n",
       "      <td>Levine</td>\n",
       "      <td>205.03465</td>\n",
       "      <td>paid</td>\n",
       "      <td>Portland-South Portland, ME</td>\n",
       "      <td>992</td>\n",
       "      <td>Jenny Take A Ride (LP Version)</td>\n",
       "      <td>80</td>\n",
       "    </tr>\n",
       "    <tr>\n",
       "      <th>1</th>\n",
       "      <td>The Spill Canvas</td>\n",
       "      <td>Tegan</td>\n",
       "      <td>F</td>\n",
       "      <td>66</td>\n",
       "      <td>Levine</td>\n",
       "      <td>358.03383</td>\n",
       "      <td>paid</td>\n",
       "      <td>Portland-South Portland, ME</td>\n",
       "      <td>992</td>\n",
       "      <td>The TIde (LP Version)</td>\n",
       "      <td>80</td>\n",
       "    </tr>\n",
       "    <tr>\n",
       "      <th>2</th>\n",
       "      <td>Mogwai</td>\n",
       "      <td>Tegan</td>\n",
       "      <td>F</td>\n",
       "      <td>67</td>\n",
       "      <td>Levine</td>\n",
       "      <td>571.19302</td>\n",
       "      <td>paid</td>\n",
       "      <td>Portland-South Portland, ME</td>\n",
       "      <td>992</td>\n",
       "      <td>Two Rights Make One Wrong</td>\n",
       "      <td>80</td>\n",
       "    </tr>\n",
       "    <tr>\n",
       "      <th>3</th>\n",
       "      <td>Spor</td>\n",
       "      <td>Tegan</td>\n",
       "      <td>F</td>\n",
       "      <td>68</td>\n",
       "      <td>Levine</td>\n",
       "      <td>380.34240</td>\n",
       "      <td>paid</td>\n",
       "      <td>Portland-South Portland, ME</td>\n",
       "      <td>992</td>\n",
       "      <td>Way Of The Samurai</td>\n",
       "      <td>80</td>\n",
       "    </tr>\n",
       "    <tr>\n",
       "      <th>4</th>\n",
       "      <td>DJ Dizzy</td>\n",
       "      <td>Tegan</td>\n",
       "      <td>F</td>\n",
       "      <td>69</td>\n",
       "      <td>Levine</td>\n",
       "      <td>221.15220</td>\n",
       "      <td>paid</td>\n",
       "      <td>Portland-South Portland, ME</td>\n",
       "      <td>992</td>\n",
       "      <td>Sexy Bitch</td>\n",
       "      <td>80</td>\n",
       "    </tr>\n",
       "    <tr>\n",
       "      <th>5</th>\n",
       "      <td>Erik Hassle</td>\n",
       "      <td>Tegan</td>\n",
       "      <td>F</td>\n",
       "      <td>70</td>\n",
       "      <td>Levine</td>\n",
       "      <td>183.43138</td>\n",
       "      <td>paid</td>\n",
       "      <td>Portland-South Portland, ME</td>\n",
       "      <td>992</td>\n",
       "      <td>Hurtful</td>\n",
       "      <td>80</td>\n",
       "    </tr>\n",
       "    <tr>\n",
       "      <th>6</th>\n",
       "      <td>Phoenix</td>\n",
       "      <td>Ryann</td>\n",
       "      <td>F</td>\n",
       "      <td>2</td>\n",
       "      <td>Smith</td>\n",
       "      <td>207.15057</td>\n",
       "      <td>free</td>\n",
       "      <td>Palestine, TX</td>\n",
       "      <td>964</td>\n",
       "      <td>Holdin' On Together</td>\n",
       "      <td>92</td>\n",
       "    </tr>\n",
       "    <tr>\n",
       "      <th>7</th>\n",
       "      <td>Arctic Monkeys</td>\n",
       "      <td>Ryann</td>\n",
       "      <td>F</td>\n",
       "      <td>3</td>\n",
       "      <td>Smith</td>\n",
       "      <td>175.43791</td>\n",
       "      <td>free</td>\n",
       "      <td>Palestine, TX</td>\n",
       "      <td>964</td>\n",
       "      <td>Mardy Bum</td>\n",
       "      <td>92</td>\n",
       "    </tr>\n",
       "    <tr>\n",
       "      <th>8</th>\n",
       "      <td>tobyMac</td>\n",
       "      <td>Braden</td>\n",
       "      <td>M</td>\n",
       "      <td>0</td>\n",
       "      <td>Parker</td>\n",
       "      <td>229.69424</td>\n",
       "      <td>free</td>\n",
       "      <td>Youngstown-Warren-Boardman, OH-PA</td>\n",
       "      <td>801</td>\n",
       "      <td>Burn For You</td>\n",
       "      <td>74</td>\n",
       "    </tr>\n",
       "    <tr>\n",
       "      <th>9</th>\n",
       "      <td>Jadakiss / Swizz Beatz / OJ Da Juiceman</td>\n",
       "      <td>Martin</td>\n",
       "      <td>M</td>\n",
       "      <td>1</td>\n",
       "      <td>Johnson</td>\n",
       "      <td>191.84281</td>\n",
       "      <td>free</td>\n",
       "      <td>Minneapolis-St. Paul-Bloomington, MN-WI</td>\n",
       "      <td>996</td>\n",
       "      <td>Who's Real</td>\n",
       "      <td>55</td>\n",
       "    </tr>\n",
       "  </tbody>\n",
       "</table>\n",
       "</div>"
      ],
      "text/plain": [
       "                                    artist firstName gender  itemInSession  \\\n",
       "0         Mitch Ryder & The Detroit Wheels     Tegan      F             65   \n",
       "1                         The Spill Canvas     Tegan      F             66   \n",
       "2                                   Mogwai     Tegan      F             67   \n",
       "3                                     Spor     Tegan      F             68   \n",
       "4                                 DJ Dizzy     Tegan      F             69   \n",
       "5                              Erik Hassle     Tegan      F             70   \n",
       "6                                  Phoenix     Ryann      F              2   \n",
       "7                           Arctic Monkeys     Ryann      F              3   \n",
       "8                                  tobyMac    Braden      M              0   \n",
       "9  Jadakiss / Swizz Beatz / OJ Da Juiceman    Martin      M              1   \n",
       "\n",
       "  lastName     length level                                 location  \\\n",
       "0   Levine  205.03465  paid              Portland-South Portland, ME   \n",
       "1   Levine  358.03383  paid              Portland-South Portland, ME   \n",
       "2   Levine  571.19302  paid              Portland-South Portland, ME   \n",
       "3   Levine  380.34240  paid              Portland-South Portland, ME   \n",
       "4   Levine  221.15220  paid              Portland-South Portland, ME   \n",
       "5   Levine  183.43138  paid              Portland-South Portland, ME   \n",
       "6    Smith  207.15057  free                            Palestine, TX   \n",
       "7    Smith  175.43791  free                            Palestine, TX   \n",
       "8   Parker  229.69424  free        Youngstown-Warren-Boardman, OH-PA   \n",
       "9  Johnson  191.84281  free  Minneapolis-St. Paul-Bloomington, MN-WI   \n",
       "\n",
       "   sessionId                            song  userId  \n",
       "0        992  Jenny Take A Ride (LP Version)      80  \n",
       "1        992           The TIde (LP Version)      80  \n",
       "2        992       Two Rights Make One Wrong      80  \n",
       "3        992              Way Of The Samurai      80  \n",
       "4        992                      Sexy Bitch      80  \n",
       "5        992                         Hurtful      80  \n",
       "6        964             Holdin' On Together      92  \n",
       "7        964                       Mardy Bum      92  \n",
       "8        801                    Burn For You      74  \n",
       "9        996                      Who's Real      55  "
      ]
     },
     "execution_count": 53,
     "metadata": {},
     "output_type": "execute_result"
    }
   ],
   "source": [
    "# creates a dataframe to view data from the new file created\n",
    "df = pd.read_csv('event_datafile_new.csv')\n",
    "df.head(10)"
   ]
  },
  {
   "cell_type": "markdown",
   "metadata": {},
   "source": [
    "-----"
   ]
  },
  {
   "cell_type": "markdown",
   "metadata": {},
   "source": [
    "## Part II. Create Tables and Load Data into Apache Cassandra DB"
   ]
  },
  {
   "cell_type": "markdown",
   "metadata": {},
   "source": [
    "### **1. Config Cassandra Connection**"
   ]
  },
  {
   "cell_type": "markdown",
   "metadata": {},
   "source": [
    "#### Creating a Cluster"
   ]
  },
  {
   "cell_type": "code",
   "execution_count": 54,
   "metadata": {},
   "outputs": [],
   "source": [
    "# This should make a connection to a Cassandra instance your local machine \n",
    "# (127.0.0.1)\n",
    "\n",
    "from cassandra.cluster import Cluster\n",
    "cluster = Cluster(['127.0.0.1'])\n",
    "\n",
    "# To establish connection and begin executing queries, need a session\n",
    "session = cluster.connect()"
   ]
  },
  {
   "cell_type": "markdown",
   "metadata": {},
   "source": [
    "#### Create Keyspace"
   ]
  },
  {
   "cell_type": "code",
   "execution_count": 55,
   "metadata": {},
   "outputs": [],
   "source": [
    "# Creates keyspace titled app\n",
    "\n",
    "try:\n",
    "    session.execute(\n",
    "        \"\"\"\n",
    "        CREATE KEYSPACE IF NOT EXISTS app\n",
    "        WITH REPLICATION =\n",
    "        { 'class' : 'SimpleStrategy', 'replication_factor' : 1 }\n",
    "        \"\"\"\n",
    "    )\n",
    "except Exception as e:\n",
    "    print(e)"
   ]
  },
  {
   "cell_type": "markdown",
   "metadata": {},
   "source": [
    "#### Set Keyspace"
   ]
  },
  {
   "cell_type": "code",
   "execution_count": 56,
   "metadata": {},
   "outputs": [],
   "source": [
    "# Set the keyspace created to the session\n",
    "\n",
    "try:\n",
    "    session.set_keyspace('app')\n",
    "except Exception as e:\n",
    "    print(e)"
   ]
  },
  {
   "cell_type": "markdown",
   "metadata": {},
   "source": [
    "------"
   ]
  },
  {
   "cell_type": "markdown",
   "metadata": {},
   "source": [
    "### **2. Problem:**\n",
    "\n",
    "#### Analytics Team want to answer 3 questions running queries:\n",
    "\n",
    "* The artist, song title and song's length in the music app history that was heard during sessionId = 338, and itemInSession  = 4\n",
    "\n",
    "* The following: name of artist, song (sorted by itemInSession) and user (first and last name) for userid = 10, sessionid = 182\n",
    "\n",
    "* Every user name (first and last) in my music app history who listened to the song 'All Hands Against His Own'\n"
   ]
  },
  {
   "cell_type": "markdown",
   "metadata": {},
   "source": [
    "#### **2.1 -  Song description heard during specific session**"
   ]
  },
  {
   "cell_type": "code",
   "execution_count": 57,
   "metadata": {},
   "outputs": [],
   "source": [
    "# creates table song_session_desc considering sessionId and itemInSession as composite primary key (CPK).\n",
    "# this CPK enables to filter the data and answer question 1.\n",
    "\n",
    "query = \"\"\"\n",
    "CREATE TABLE IF NOT EXISTS song_session_desc (\n",
    "    sessionId int,\n",
    "    itemInSession int,\n",
    "    artist text,\n",
    "    song_title text,\n",
    "    song_len float,\n",
    "    PRIMARY KEY (sessionId, itemInSession)\n",
    ")\n",
    "\"\"\"\n",
    "\n",
    "try:\n",
    "    session.execute(query)\n",
    "except Exception as e:\n",
    "    print(e)"
   ]
  },
  {
   "cell_type": "code",
   "execution_count": 58,
   "metadata": {
    "scrolled": false
   },
   "outputs": [],
   "source": [
    "# read the csv and insert parsed values from each csv line to corresponding columns.\n",
    "\n",
    "file = 'event_datafile_new.csv'\n",
    "\n",
    "with open(file, encoding = 'utf8') as f:\n",
    "    csvreader = csv.reader(f)\n",
    "    next(csvreader) # skip header\n",
    "    for line in csvreader:\n",
    "        query = \"INSERT INTO song_session_desc (sessionId, itemInSession, artist, song_title, song_len)\"\n",
    "        query = query + \"VALUES (%s, %s, %s, %s, %s)\"\n",
    "        session.execute(query, (int(line[8]), int(line[3]), line[0], line[9], float(line[5])))"
   ]
  },
  {
   "cell_type": "code",
   "execution_count": 59,
   "metadata": {
    "scrolled": true
   },
   "outputs": [
    {
     "name": "stdout",
     "output_type": "stream",
     "text": [
      "+-----------+---------------------------------+---------------+\n",
      "| Artist    | Song Title                      |   Song Length |\n",
      "|-----------+---------------------------------+---------------|\n",
      "| Faithless | Music Matters (Mark Knight Dub) |       495.307 |\n",
      "+-----------+---------------------------------+---------------+\n"
     ]
    }
   ],
   "source": [
    "# select song description to specific sessionId and itemInSession.\n",
    "\n",
    "query = \"SELECT artist, song_title, song_len from song_session_desc WHERE sessionId = 338 AND itemInSession = 4\"\n",
    "try:\n",
    "    result = session.execute(query)\n",
    "except Exception as e:\n",
    "    print(e)\n",
    "\n",
    "# creates a list of dicts from query result.\n",
    "data = []\n",
    "for row in result:\n",
    "    data.append(\n",
    "        {\n",
    "            'Artist': row.artist,\n",
    "            'Song Title': row.song_title,\n",
    "            'Song Length': row.song_len\n",
    "        }\n",
    "    )\n",
    "\n",
    "# creates a dataframe to present data.\n",
    "df = pd.DataFrame(data)\n",
    "\n",
    "print(tabulate(df, headers='keys', tablefmt='psql', showindex=False))"
   ]
  },
  {
   "cell_type": "markdown",
   "metadata": {},
   "source": [
    "---------"
   ]
  },
  {
   "cell_type": "markdown",
   "metadata": {},
   "source": [
    "#### **2.2 -  Playlist heard from user during specific session**"
   ]
  },
  {
   "cell_type": "code",
   "execution_count": 60,
   "metadata": {},
   "outputs": [],
   "source": [
    "# creates table song_song_playlist_session considering userId and sessionId as composite primary key (CPK) and itemInSession as clustering column.\n",
    "# clustering column enables to sort the data as requested on question 2.\n",
    "\n",
    "query = \"\"\"\n",
    "CREATE TABLE IF NOT EXISTS song_playlist_session (\n",
    "    userId int,\n",
    "    sessionId int,\n",
    "    itemInSession int,\n",
    "    artist text,\n",
    "    songTitle text,\n",
    "    user text,\n",
    "    PRIMARY KEY ((userId, sessionId), itemInSession)\n",
    ")\n",
    "\"\"\"\n",
    "\n",
    "try:\n",
    "    session.execute(query)\n",
    "except Exception as e:\n",
    "    print(e)        "
   ]
  },
  {
   "cell_type": "code",
   "execution_count": 61,
   "metadata": {},
   "outputs": [],
   "source": [
    "# read the csv and insert parsed values from each csv line to corresponding columns.\n",
    "\n",
    "file = 'event_datafile_new.csv'\n",
    "\n",
    "with open(file, encoding = 'utf8') as f:\n",
    "    csvreader = csv.reader(f)\n",
    "    next(csvreader) # skip header\n",
    "    for line in csvreader:\n",
    "        query = \"INSERT INTO song_playlist_session (userId, sessionId, itemInSession, artist, songTitle, user)\"\n",
    "        query = query + \"VALUES (%s, %s, %s, %s, %s, %s)\"\n",
    "        session.execute(query, (int(line[10]), int(line[8]), int(line[3]), line[0], line[9], (line[1] + \" \" + line[4])))"
   ]
  },
  {
   "cell_type": "code",
   "execution_count": 62,
   "metadata": {},
   "outputs": [
    {
     "name": "stdout",
     "output_type": "stream",
     "text": [
      "+-------------------+------------------------------------------------------+-------------+\n",
      "| Artist            | Song Title                                           | User        |\n",
      "|-------------------+------------------------------------------------------+-------------|\n",
      "| Down To The Bone  | Keep On Keepin' On                                   | Sylvie Cruz |\n",
      "| Three Drives      | Greece 2000                                          | Sylvie Cruz |\n",
      "| Sebastien Tellier | Kilometer                                            | Sylvie Cruz |\n",
      "| Lonnie Gordon     | Catch You Baby (Steve Pitron & Max Sanna Radio Edit) | Sylvie Cruz |\n",
      "+-------------------+------------------------------------------------------+-------------+\n"
     ]
    }
   ],
   "source": [
    "# select playlist from specific user and sessionId.\n",
    "\n",
    "query = \"SELECT artist, songTitle, user from song_playlist_session WHERE userId = 10 AND sessionId = 182 ORDER BY itemInSession\"\n",
    "try:\n",
    "    result = session.execute(query)\n",
    "except Exception as e:\n",
    "    print(e)\n",
    "\n",
    "# creates a list of dicts from query result.\n",
    "data = []\n",
    "for row in result:\n",
    "    data.append(\n",
    "        {\n",
    "            'Artist': row.artist,\n",
    "            'Song Title': row.songtitle,\n",
    "            'User': row.user\n",
    "        }\n",
    "    )\n",
    "\n",
    "# creates a dataframe to present data.\n",
    "df = pd.DataFrame(data)\n",
    "\n",
    "print(tabulate(df, headers='keys', tablefmt='psql', showindex=False))"
   ]
  },
  {
   "cell_type": "markdown",
   "metadata": {},
   "source": [
    "------"
   ]
  },
  {
   "cell_type": "markdown",
   "metadata": {},
   "source": [
    "#### **2.3 -  Users that heard specific song**"
   ]
  },
  {
   "cell_type": "code",
   "execution_count": 63,
   "metadata": {},
   "outputs": [],
   "source": [
    "# creates table song_song_listeners considering song_title and userId as composite primary key (CPK).\n",
    "# this CPK enables to filter the data and answer question 3.\n",
    "\n",
    "query = \"\"\"\n",
    "CREATE TABLE IF NOT EXISTS song_listeners (\n",
    "    song_title text,\n",
    "    user_id int,\n",
    "    user text,\n",
    "    PRIMARY KEY (song_title, user_id)\n",
    ")\n",
    "\"\"\"\n",
    "\n",
    "try:\n",
    "    session.execute(query)\n",
    "except Exception as e:\n",
    "    print(e)  \n",
    "\n",
    "                    "
   ]
  },
  {
   "cell_type": "code",
   "execution_count": 64,
   "metadata": {},
   "outputs": [],
   "source": [
    "# read the csv and insert parsed values from each csv line to corresponding columns.\n",
    "\n",
    "file = 'event_datafile_new.csv'\n",
    "\n",
    "with open(file, encoding = 'utf8') as f:\n",
    "    csvreader = csv.reader(f)\n",
    "    next(csvreader) # skip header\n",
    "    for line in csvreader:\n",
    "        query = \"INSERT INTO song_listeners (song_title, user_id, user)\"\n",
    "        query = query + \"VALUES (%s, %s, %s)\"\n",
    "        session.execute(query, (line[9], int(line[10]), (line[1] + \" \" + line[4])))"
   ]
  },
  {
   "cell_type": "code",
   "execution_count": 65,
   "metadata": {},
   "outputs": [
    {
     "name": "stdout",
     "output_type": "stream",
     "text": [
      "+------------------+\n",
      "| User             |\n",
      "|------------------|\n",
      "| Jacqueline Lynch |\n",
      "| Tegan Levine     |\n",
      "| Sara Johnson     |\n",
      "+------------------+\n"
     ]
    }
   ],
   "source": [
    "# select all users which heard specific song.\n",
    "\n",
    "query = \"SELECT user from song_listeners WHERE song_title = 'All Hands Against His Own'\"\n",
    "try:\n",
    "    result = session.execute(query)\n",
    "except Exception as e:\n",
    "    print(e)\n",
    "\n",
    "\n",
    "# creates a list of dicts from query result.\n",
    "data = []\n",
    "for row in result:\n",
    "    data.append(\n",
    "        {\n",
    "            'User': row.user\n",
    "        }\n",
    "    )\n",
    "\n",
    "# creates a dataframe to present data.\n",
    "df = pd.DataFrame(data)\n",
    "\n",
    "print(tabulate(df, headers='keys', tablefmt='psql', showindex=False))"
   ]
  },
  {
   "cell_type": "markdown",
   "metadata": {},
   "source": [
    "-----"
   ]
  },
  {
   "cell_type": "markdown",
   "metadata": {},
   "source": [
    "### **3. End**"
   ]
  },
  {
   "cell_type": "code",
   "execution_count": 66,
   "metadata": {},
   "outputs": [],
   "source": [
    "# Drop all the tables created during dev stage.\n",
    "\n",
    "query = \"DROP TABLE IF EXISTS song_session_desc\"\n",
    "try:\n",
    "    rows = session.execute(query)\n",
    "except Exception as e:\n",
    "    print(e)\n",
    "\n",
    "query = \"DROP TABLE IF EXISTS song_playlist_session\"\n",
    "try:\n",
    "    rows = session.execute(query)\n",
    "except Exception as e:\n",
    "    print(e)\n",
    "\n",
    "query = \"DROP TABLE IF EXISTS song_listeners\"\n",
    "try:\n",
    "    rows = session.execute(query)\n",
    "except Exception as e:\n",
    "    print(e)"
   ]
  },
  {
   "cell_type": "markdown",
   "metadata": {},
   "source": [
    "#### Close the session and cluster connection¶"
   ]
  },
  {
   "cell_type": "code",
   "execution_count": 67,
   "metadata": {},
   "outputs": [],
   "source": [
    "session.shutdown()\n",
    "cluster.shutdown()"
   ]
  }
 ],
 "metadata": {
  "kernelspec": {
   "display_name": "Python 3",
   "language": "python",
   "name": "python3"
  },
  "language_info": {
   "codemirror_mode": {
    "name": "ipython",
    "version": 3
   },
   "file_extension": ".py",
   "mimetype": "text/x-python",
   "name": "python",
   "nbconvert_exporter": "python",
   "pygments_lexer": "ipython3",
   "version": "3.10.4"
  }
 },
 "nbformat": 4,
 "nbformat_minor": 2
}
